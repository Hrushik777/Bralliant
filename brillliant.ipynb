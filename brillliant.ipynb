{
 "cells": [
  {
   "cell_type": "code",
   "execution_count": 8,
   "metadata": {},
   "outputs": [
    {
     "name": "stdout",
     "output_type": "stream",
     "text": [
      "Photo saved at C:\\Users\\hrush\\OneDrive\\Documents\\AiMl Projects\\captured_images\\photo_1.jpg\n",
      "Photo saved at C:\\Users\\hrush\\OneDrive\\Documents\\AiMl Projects\\captured_images\\photo_2.jpg\n",
      "Photo saved at C:\\Users\\hrush\\OneDrive\\Documents\\AiMl Projects\\captured_images\\photo_3.jpg\n",
      "Photo saved at C:\\Users\\hrush\\OneDrive\\Documents\\AiMl Projects\\captured_images\\photo_4.jpg\n",
      "Photo saved at C:\\Users\\hrush\\OneDrive\\Documents\\AiMl Projects\\captured_images\\photo_5.jpg\n",
      "Exiting the camera feed.\n"
     ]
    }
   ],
   "source": [
    "import cv2\n",
    "import os\n",
    "\n",
    "\n",
    "save_folder = 'C:\\\\Users\\\\hrush\\\\OneDrive\\\\Documents\\\\AiMl Projects\\\\captured_images'  \n",
    "os.makedirs(save_folder, exist_ok=True)  \n",
    "\n",
    "\n",
    "camera = cv2.VideoCapture(0)\n",
    "\n",
    "if not camera.isOpened():\n",
    "    print(\"Error: Could not open camera.\")\n",
    "    exit()\n",
    "\n",
    "\n",
    "photo_count = 1  \n",
    "while True:\n",
    "    \n",
    "    ret, frame = camera.read()\n",
    "\n",
    "    if not ret:\n",
    "        print(\"Error: Could not read from camera.\")\n",
    "        break\n",
    "\n",
    "   \n",
    "    cv2.imshow('Camera Feed - Press \"c\" to capture, \"q\" to quit', frame)\n",
    "\n",
    "   \n",
    "    key = cv2.waitKey(1) & 0xFF\n",
    "\n",
    "    \n",
    "    if key == ord('c'):\n",
    "        \n",
    "        photo_filename = f'photo_{photo_count}.jpg'\n",
    "        photo_path = os.path.join(save_folder, photo_filename)\n",
    "\n",
    "        \n",
    "        cv2.imwrite(photo_path, frame)\n",
    "        print(f\"Photo saved at {photo_path}\")\n",
    "        photo_count += 1  \n",
    "\n",
    "    \n",
    "    elif key == ord('q'):\n",
    "        print(\"Exiting the camera feed.\")\n",
    "        break\n",
    "\n",
    "\n",
    "camera.release()\n",
    "cv2.destroyAllWindows()\n"
   ]
  }
 ],
 "metadata": {
  "kernelspec": {
   "display_name": "Python 3",
   "language": "python",
   "name": "python3"
  },
  "language_info": {
   "codemirror_mode": {
    "name": "ipython",
    "version": 3
   },
   "file_extension": ".py",
   "mimetype": "text/x-python",
   "name": "python",
   "nbconvert_exporter": "python",
   "pygments_lexer": "ipython3",
   "version": "3.12.4"
  }
 },
 "nbformat": 4,
 "nbformat_minor": 2
}
